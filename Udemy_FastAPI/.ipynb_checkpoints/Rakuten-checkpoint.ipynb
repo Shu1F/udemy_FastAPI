{
 "cells": [
  {
   "cell_type": "code",
   "execution_count": 24,
   "id": "5b7578f2-9c06-412b-9b86-340471b14fa4",
   "metadata": {},
   "outputs": [],
   "source": [
    "import requests"
   ]
  },
  {
   "cell_type": "code",
   "execution_count": 25,
   "id": "401e4cac-1a12-4030-b914-b82645c118f6",
   "metadata": {},
   "outputs": [],
   "source": [
    "URL = 'https://app.rakuten.co.jp/services/api/Travel/KeywordHotelSearch/20170426'\n",
    "APP_ID = '1099529787563736246'"
   ]
  },
  {
   "cell_type": "code",
   "execution_count": 26,
   "id": "02c6a42d-d8c9-48e5-8cd4-c0014cf2cf80",
   "metadata": {},
   "outputs": [],
   "source": [
    "params = {\n",
    "    'applicationId' : APP_ID,\n",
    "    'keyword' : '沖縄'\n",
    "}"
   ]
  },
  {
   "cell_type": "code",
   "execution_count": 27,
   "id": "7b6972e4-b4be-4964-b49d-5e7fe8ca13d2",
   "metadata": {},
   "outputs": [
    {
     "ename": "NameError",
     "evalue": "name 'URL' is not defined",
     "output_type": "error",
     "traceback": [
      "\u001b[31m---------------------------------------------------------------------------\u001b[39m",
      "\u001b[31mNameError\u001b[39m                                 Traceback (most recent call last)",
      "\u001b[36mCell\u001b[39m\u001b[36m \u001b[39m\u001b[32mIn[27]\u001b[39m\u001b[32m, line 1\u001b[39m\n\u001b[32m----> \u001b[39m\u001b[32m1\u001b[39m res = requests.get(\u001b[43mURL\u001b[49m, params)\n",
      "\u001b[31mNameError\u001b[39m: name 'URL' is not defined"
     ]
    }
   ],
   "source": [
    "res = requests.get(URL, params)"
   ]
  },
  {
   "cell_type": "code",
   "execution_count": 28,
   "id": "42c10fae-0055-41a2-b911-2e19e60d46f2",
   "metadata": {},
   "outputs": [
    {
     "ename": "NameError",
     "evalue": "name 'res' is not defined",
     "output_type": "error",
     "traceback": [
      "\u001b[31m---------------------------------------------------------------------------\u001b[39m",
      "\u001b[31mNameError\u001b[39m                                 Traceback (most recent call last)",
      "\u001b[36mCell\u001b[39m\u001b[36m \u001b[39m\u001b[32mIn[28]\u001b[39m\u001b[32m, line 1\u001b[39m\n\u001b[32m----> \u001b[39m\u001b[32m1\u001b[39m \u001b[43mres\u001b[49m.status_code\n",
      "\u001b[31mNameError\u001b[39m: name 'res' is not defined"
     ]
    }
   ],
   "source": [
    "res.status_code"
   ]
  }
 ],
 "metadata": {
  "kernelspec": {
   "display_name": "Python 3 (ipykernel)",
   "language": "python",
   "name": "python3"
  },
  "language_info": {
   "codemirror_mode": {
    "name": "ipython",
    "version": 3
   },
   "file_extension": ".py",
   "mimetype": "text/x-python",
   "name": "python",
   "nbconvert_exporter": "python",
   "pygments_lexer": "ipython3",
   "version": "3.13.1"
  }
 },
 "nbformat": 4,
 "nbformat_minor": 5
}
