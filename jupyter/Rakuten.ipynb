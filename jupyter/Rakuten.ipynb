{
 "cells": [
  {
   "cell_type": "code",
   "execution_count": 8,
   "id": "5b7578f2-9c06-412b-9b86-340471b14fa4",
   "metadata": {},
   "outputs": [],
   "source": [
    "import requests"
   ]
  },
  {
   "cell_type": "code",
   "execution_count": 9,
   "id": "401e4cac-1a12-4030-b914-b82645c118f6",
   "metadata": {},
   "outputs": [],
   "source": [
    "URL = 'https://app.rakuten.co.jp/services/api/Travel/HotelDetailSearch/20170426'\n",
    "APP_ID = '1099529787563736246'"
   ]
  },
  {
   "cell_type": "code",
   "execution_count": 10,
   "id": "02c6a42d-d8c9-48e5-8cd4-c0014cf2cf80",
   "metadata": {},
   "outputs": [],
   "source": [
    "params = {\n",
    "    'applicationId' : APP_ID,\n",
    "    'hotelNo' : 187433\n",
    "}"
   ]
  },
  {
   "cell_type": "code",
   "execution_count": 11,
   "id": "7b6972e4-b4be-4964-b49d-5e7fe8ca13d2",
   "metadata": {},
   "outputs": [],
   "source": [
    "res = requests.get(URL, params)"
   ]
  },
  {
   "cell_type": "code",
   "execution_count": 12,
   "id": "42c10fae-0055-41a2-b911-2e19e60d46f2",
   "metadata": {},
   "outputs": [
    {
     "data": {
      "text/plain": [
       "200"
      ]
     },
     "execution_count": 12,
     "metadata": {},
     "output_type": "execute_result"
    }
   ],
   "source": [
    "res.status_code"
   ]
  },
  {
   "cell_type": "code",
   "execution_count": 22,
   "id": "fb026a26-7173-405c-b67c-583004ce9f81",
   "metadata": {
    "scrolled": true
   },
   "outputs": [
    {
     "data": {
      "text/plain": [
       "[{'hotel': [{'hotelBasicInfo': {'hotelNo': 187433,\n",
       "     'hotelName': 'レフ沖縄アリーナｂｙベッセルホテルズ｜ＲＥＦ沖縄アリーナ｜プール＆ＢＡＲ',\n",
       "     'hotelInformationUrl': 'https://img.travel.rakuten.co.jp/image/tr/api/if/uPw0Q/?f_no=187433',\n",
       "     'planListUrl': 'https://img.travel.rakuten.co.jp/image/tr/api/if/ZwI4Q/?f_no=187433&f_flg=PLAN',\n",
       "     'dpPlanListUrl': 'https://img.travel.rakuten.co.jp/image/tr/api/if/G02wZ/?noTomariHotel=187433',\n",
       "     'reviewUrl': 'https://img.travel.rakuten.co.jp/image/tr/api/if/50xNk/?f_hotel_no=187433',\n",
       "     'hotelKanaName': 'れふおきなわありーなｂｙべっせるほてるず｜ＲＥＦおきなわありーな｜ぷーる＆\\u3000ＢＡＲ',\n",
       "     'hotelSpecial': '美ら海水族館までのアクセスも抜群！大浴場やインフィニティプール、無料駐車場完備。',\n",
       "     'hotelMinCharge': 3899,\n",
       "     'latitude': 94789.01,\n",
       "     'longitude': 460040.42,\n",
       "     'postalCode': '904-0032',\n",
       "     'address1': '沖縄県',\n",
       "     'address2': '沖縄市字諸見里1766',\n",
       "     'telephoneNo': '098-933-6111',\n",
       "     'faxNo': '098-933-6112',\n",
       "     'access': '那覇空港より高速バスで約60分\\u3000南ICより車で2分の好立地！',\n",
       "     'parkingInformation': '約150台（無料駐車場）',\n",
       "     'nearestStation': '那覇空港',\n",
       "     'hotelImageUrl': 'https://img.travel.rakuten.co.jp/share/HOTEL/187433/187433.jpg',\n",
       "     'hotelThumbnailUrl': 'https://img.travel.rakuten.co.jp/HIMG/90/187433.jpg',\n",
       "     'roomImageUrl': None,\n",
       "     'roomThumbnailUrl': None,\n",
       "     'hotelMapImageUrl': 'https://img.travel.rakuten.co.jp/share/HOTEL/187433/187433map.gif',\n",
       "     'reviewCount': 173,\n",
       "     'reviewAverage': 4.7,\n",
       "     'userReview': '一度泊まってみたかったキングスルーム、泊まれてとても嬉しかったです！スタッフさんの対応も素晴らしくいつもとてもいい気持ちで利用させてもらっております！また来ます！\\u30002025-04-10 16:36:21投稿'}},\n",
       "   {'hotelRatingInfo': {'serviceAverage': 4.46,\n",
       "     'locationAverage': 4.31,\n",
       "     'roomAverage': 4.65,\n",
       "     'equipmentAverage': 4.5,\n",
       "     'bathAverage': 4.48,\n",
       "     'mealAverage': 4.52}}]}]"
      ]
     },
     "execution_count": 22,
     "metadata": {},
     "output_type": "execute_result"
    }
   ],
   "source": [
    "hotels = res.json()['hotels']\n",
    "hotels"
   ]
  },
  {
   "cell_type": "code",
   "execution_count": 37,
   "id": "1d992403-cf33-42e7-9f11-30c2ff0eea8a",
   "metadata": {
    "scrolled": true
   },
   "outputs": [
    {
     "data": {
      "text/plain": [
       "{'hotel': [{'hotelBasicInfo': {'hotelNo': 187433,\n",
       "    'hotelName': 'レフ沖縄アリーナｂｙベッセルホテルズ｜ＲＥＦ沖縄アリーナ｜プール＆ＢＡＲ',\n",
       "    'hotelInformationUrl': 'https://img.travel.rakuten.co.jp/image/tr/api/kw/JBe8h/?f_no=187433',\n",
       "    'planListUrl': 'https://img.travel.rakuten.co.jp/image/tr/api/kw/3VTwt/?f_no=187433&f_flg=PLAN',\n",
       "    'dpPlanListUrl': 'https://img.travel.rakuten.co.jp/image/tr/api/kw/IWrzP/?noTomariHotel=187433',\n",
       "    'reviewUrl': 'https://img.travel.rakuten.co.jp/image/tr/api/kw/HTX0u/?f_hotel_no=187433',\n",
       "    'hotelKanaName': 'れふおきなわありーなｂｙべっせるほてるず｜ＲＥＦおきなわありーな｜ぷーる＆\\u3000ＢＡＲ',\n",
       "    'hotelSpecial': '美ら海水族館までのアクセスも抜群！大浴場やインフィニティプール、無料駐車場完備。',\n",
       "    'hotelMinCharge': 3899,\n",
       "    'latitude': 94789.01,\n",
       "    'longitude': 460040.41,\n",
       "    'postalCode': '904-0032',\n",
       "    'address1': '沖縄県',\n",
       "    'address2': '沖縄市字諸見里1766',\n",
       "    'telephoneNo': '098-933-6111',\n",
       "    'faxNo': '098-933-6112',\n",
       "    'access': '那覇空港より高速バスで約60分\\u3000南ICより車で2分の好立地！',\n",
       "    'parkingInformation': '約150台（無料駐車場）',\n",
       "    'nearestStation': '那覇空港',\n",
       "    'hotelImageUrl': 'https://img.travel.rakuten.co.jp/share/HOTEL/187433/187433.jpg',\n",
       "    'hotelThumbnailUrl': 'https://img.travel.rakuten.co.jp/HIMG/90/187433.jpg',\n",
       "    'roomImageUrl': None,\n",
       "    'roomThumbnailUrl': None,\n",
       "    'hotelMapImageUrl': 'https://img.travel.rakuten.co.jp/share/HOTEL/187433/187433map.gif',\n",
       "    'reviewCount': 173,\n",
       "    'reviewAverage': 4.7,\n",
       "    'userReview': '一度泊まってみたかったキングスルーム、泊まれてとても嬉しかったです！スタッフさんの対応も素晴らしくいつもとてもいい気持ちで利用させてもらっております！また来ます！\\u30002025-04-10 16:36:21投稿'}},\n",
       "  {'hotelRatingInfo': {'serviceAverage': 4.46,\n",
       "    'locationAverage': 4.31,\n",
       "    'roomAverage': 4.65,\n",
       "    'equipmentAverage': 4.5,\n",
       "    'bathAverage': 4.48,\n",
       "    'mealAverage': 4.53}}]}"
      ]
     },
     "execution_count": 37,
     "metadata": {},
     "output_type": "execute_result"
    }
   ],
   "source": [
    "hotels[0]"
   ]
  },
  {
   "cell_type": "code",
   "execution_count": 38,
   "id": "13a35a17-e02f-446a-9c43-1ac5cfa35ceb",
   "metadata": {},
   "outputs": [
    {
     "data": {
      "text/plain": [
       "[{'hotelBasicInfo': {'hotelNo': 187433,\n",
       "   'hotelName': 'レフ沖縄アリーナｂｙベッセルホテルズ｜ＲＥＦ沖縄アリーナ｜プール＆ＢＡＲ',\n",
       "   'hotelInformationUrl': 'https://img.travel.rakuten.co.jp/image/tr/api/kw/JBe8h/?f_no=187433',\n",
       "   'planListUrl': 'https://img.travel.rakuten.co.jp/image/tr/api/kw/3VTwt/?f_no=187433&f_flg=PLAN',\n",
       "   'dpPlanListUrl': 'https://img.travel.rakuten.co.jp/image/tr/api/kw/IWrzP/?noTomariHotel=187433',\n",
       "   'reviewUrl': 'https://img.travel.rakuten.co.jp/image/tr/api/kw/HTX0u/?f_hotel_no=187433',\n",
       "   'hotelKanaName': 'れふおきなわありーなｂｙべっせるほてるず｜ＲＥＦおきなわありーな｜ぷーる＆\\u3000ＢＡＲ',\n",
       "   'hotelSpecial': '美ら海水族館までのアクセスも抜群！大浴場やインフィニティプール、無料駐車場完備。',\n",
       "   'hotelMinCharge': 3899,\n",
       "   'latitude': 94789.01,\n",
       "   'longitude': 460040.41,\n",
       "   'postalCode': '904-0032',\n",
       "   'address1': '沖縄県',\n",
       "   'address2': '沖縄市字諸見里1766',\n",
       "   'telephoneNo': '098-933-6111',\n",
       "   'faxNo': '098-933-6112',\n",
       "   'access': '那覇空港より高速バスで約60分\\u3000南ICより車で2分の好立地！',\n",
       "   'parkingInformation': '約150台（無料駐車場）',\n",
       "   'nearestStation': '那覇空港',\n",
       "   'hotelImageUrl': 'https://img.travel.rakuten.co.jp/share/HOTEL/187433/187433.jpg',\n",
       "   'hotelThumbnailUrl': 'https://img.travel.rakuten.co.jp/HIMG/90/187433.jpg',\n",
       "   'roomImageUrl': None,\n",
       "   'roomThumbnailUrl': None,\n",
       "   'hotelMapImageUrl': 'https://img.travel.rakuten.co.jp/share/HOTEL/187433/187433map.gif',\n",
       "   'reviewCount': 173,\n",
       "   'reviewAverage': 4.7,\n",
       "   'userReview': '一度泊まってみたかったキングスルーム、泊まれてとても嬉しかったです！スタッフさんの対応も素晴らしくいつもとてもいい気持ちで利用させてもらっております！また来ます！\\u30002025-04-10 16:36:21投稿'}},\n",
       " {'hotelRatingInfo': {'serviceAverage': 4.46,\n",
       "   'locationAverage': 4.31,\n",
       "   'roomAverage': 4.65,\n",
       "   'equipmentAverage': 4.5,\n",
       "   'bathAverage': 4.48,\n",
       "   'mealAverage': 4.53}}]"
      ]
     },
     "execution_count": 38,
     "metadata": {},
     "output_type": "execute_result"
    }
   ],
   "source": [
    "hotels[0]['hotel']"
   ]
  },
  {
   "cell_type": "code",
   "execution_count": 40,
   "id": "07f33013-5469-479c-bb2f-3719a7c79975",
   "metadata": {},
   "outputs": [],
   "source": [
    "hotel = hotels[0]['hotel'][0]['hotelBasicInfo']\n",
    "hotel"
   ]
  },
  {
   "cell_type": "code",
   "execution_count": 41,
   "id": "2aa8e709-32de-4792-a9dc-60ef13b3698c",
   "metadata": {},
   "outputs": [
    {
     "data": {
      "text/plain": [
       "'レフ沖縄アリーナｂｙベッセルホテルズ｜ＲＥＦ沖縄アリーナ｜プール＆ＢＡＲ'"
      ]
     },
     "execution_count": 41,
     "metadata": {},
     "output_type": "execute_result"
    }
   ],
   "source": [
    "hotel['hotelName']"
   ]
  },
  {
   "cell_type": "code",
   "execution_count": 43,
   "id": "f6a5bf86-f878-4d2a-a880-79283adf03a7",
   "metadata": {},
   "outputs": [
    {
     "data": {
      "text/plain": [
       "'那覇空港より高速バスで約60分\\u3000南ICより車で2分の好立地！'"
      ]
     },
     "execution_count": 43,
     "metadata": {},
     "output_type": "execute_result"
    }
   ],
   "source": [
    "hotel['access']"
   ]
  },
  {
   "cell_type": "code",
   "execution_count": 47,
   "id": "0dfa3a84-a595-4c72-9ee0-7eb6013fc73c",
   "metadata": {},
   "outputs": [
    {
     "data": {
      "text/plain": [
       "'沖縄県沖縄市字諸見里1766'"
      ]
     },
     "execution_count": 47,
     "metadata": {},
     "output_type": "execute_result"
    }
   ],
   "source": [
    "hotel['address1'] + hotel['address2']"
   ]
  },
  {
   "cell_type": "code",
   "execution_count": 45,
   "id": "157842c3-bd64-41e4-b5ce-e51e5d7ce77b",
   "metadata": {},
   "outputs": [
    {
     "data": {
      "text/plain": [
       "'沖縄市字諸見里1766'"
      ]
     },
     "execution_count": 45,
     "metadata": {},
     "output_type": "execute_result"
    }
   ],
   "source": [
    "hotel['address2']"
   ]
  },
  {
   "cell_type": "code",
   "execution_count": null,
   "id": "c4d1a154-4141-4788-9959-495e6d0f5429",
   "metadata": {},
   "outputs": [],
   "source": []
  }
 ],
 "metadata": {
  "kernelspec": {
   "display_name": "Python 3 (ipykernel)",
   "language": "python",
   "name": "python3"
  },
  "language_info": {
   "codemirror_mode": {
    "name": "ipython",
    "version": 3
   },
   "file_extension": ".py",
   "mimetype": "text/x-python",
   "name": "python",
   "nbconvert_exporter": "python",
   "pygments_lexer": "ipython3",
   "version": "3.13.1"
  }
 },
 "nbformat": 4,
 "nbformat_minor": 5
}
