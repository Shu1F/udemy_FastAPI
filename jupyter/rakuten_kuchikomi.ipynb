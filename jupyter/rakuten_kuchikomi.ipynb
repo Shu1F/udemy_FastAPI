{
 "cells": [
  {
   "cell_type": "code",
   "execution_count": 1,
   "id": "be4cdb36-9706-4b5f-a448-871862965d96",
   "metadata": {},
   "outputs": [],
   "source": [
    "import requests"
   ]
  },
  {
   "cell_type": "code",
   "execution_count": null,
   "id": "f9843ef9-acb1-4483-b41b-31402f2bfe58",
   "metadata": {},
   "outputs": [],
   "source": [
    "URL = 'https://app.rakuten.co.jp/services/api/Travel/HotelDetailSearch/20170426'\n"
   ]
  }
 ],
 "metadata": {
  "kernelspec": {
   "display_name": "Python 3 (ipykernel)",
   "language": "python",
   "name": "python3"
  },
  "language_info": {
   "codemirror_mode": {
    "name": "ipython",
    "version": 3
   },
   "file_extension": ".py",
   "mimetype": "text/x-python",
   "name": "python",
   "nbconvert_exporter": "python",
   "pygments_lexer": "ipython3",
   "version": "3.13.1"
  }
 },
 "nbformat": 4,
 "nbformat_minor": 5
}
